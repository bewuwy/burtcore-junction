{
 "cells": [
  {
   "metadata": {
    "ExecuteTime": {
     "end_time": "2025-10-04T11:35:52.949422Z",
     "start_time": "2025-10-04T11:35:50.570235Z"
    }
   },
   "cell_type": "code",
   "source": [
    "import whisper\n",
    "import os\n",
    "import json\n",
    "import torch\n",
    "print(torch.cuda.is_available())  # Should print True if GPU is available\n",
    "\n",
    "model = whisper.load_model(\"base\", device=\"cuda\")"
   ],
   "id": "a23fad6d1f8e14ca",
   "outputs": [
    {
     "name": "stdout",
     "output_type": "stream",
     "text": [
      "True\n"
     ]
    }
   ],
   "execution_count": 1
  },
  {
   "metadata": {
    "ExecuteTime": {
     "end_time": "2025-10-04T11:35:55.864179Z",
     "start_time": "2025-10-04T11:35:55.860640Z"
    }
   },
   "cell_type": "code",
   "source": [
    "input_dir = \"dataset/hate_videos\"\n",
    "output_dir =  \"transcripts\"\n",
    "results = {}"
   ],
   "id": "d7f1d2f6f79ab3f",
   "outputs": [],
   "execution_count": 2
  },
  {
   "metadata": {
    "jupyter": {
     "is_executing": true
    },
    "ExecuteTime": {
     "start_time": "2025-10-04T11:35:58.892838Z"
    }
   },
   "cell_type": "code",
   "source": [
    "for filename in os.listdir(input_dir):\n",
    "    if filename.endswith('.mp4'):\n",
    "        filepath = os.path.join(input_dir, filename)\n",
    "        audio = whisper.load_audio(filepath)\n",
    "        result = model.transcribe(audio)\n",
    "        results[filename] = result\n",
    "        output_path = os.path.join(output_dir, f\"{os.path.splitext(filename)[0]}.json\")\n",
    "        print(output_path)\n",
    "        with open(output_path, 'w', encoding='utf-8') as f:\n",
    "            json.dump(result, f, ensure_ascii=False, indent=2)"
   ],
   "id": "40f72db06fc6646e",
   "outputs": [
    {
     "name": "stdout",
     "output_type": "stream",
     "text": [
      "transcripts/hate_video_193.json\n"
     ]
    }
   ],
   "execution_count": null
  },
  {
   "metadata": {},
   "cell_type": "code",
   "outputs": [],
   "execution_count": null,
   "source": "",
   "id": "8859cd3a1188f208"
  }
 ],
 "metadata": {
  "kernelspec": {
   "display_name": "Python 3",
   "language": "python",
   "name": "python3"
  },
  "language_info": {
   "codemirror_mode": {
    "name": "ipython",
    "version": 2
   },
   "file_extension": ".py",
   "mimetype": "text/x-python",
   "name": "python",
   "nbconvert_exporter": "python",
   "pygments_lexer": "ipython2",
   "version": "2.7.6"
  }
 },
 "nbformat": 4,
 "nbformat_minor": 5
}
