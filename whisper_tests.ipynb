{
 "cells": [
  {
   "cell_type": "code",
   "id": "initial_id",
   "metadata": {
    "collapsed": true,
    "ExecuteTime": {
     "end_time": "2025-10-04T10:39:14.493061Z",
     "start_time": "2025-10-04T10:38:02.821004Z"
    }
   },
   "source": [
    "import whisper\n",
    "model = whisper.load_model(\"base\")"
   ],
   "outputs": [
    {
     "name": "stderr",
     "output_type": "stream",
     "text": [
      "100%|███████████████████████████████████████| 139M/139M [01:10<00:00, 2.06MiB/s]\n"
     ]
    }
   ],
   "execution_count": 3
  },
  {
   "metadata": {
    "ExecuteTime": {
     "end_time": "2025-10-04T10:55:54.165549Z",
     "start_time": "2025-10-04T10:55:53.480480Z"
    }
   },
   "cell_type": "code",
   "source": "whisper.transcribe(model, \"dataset/LibriTTS/test-other/367/130732/367_130732_000000_000000.wav\")",
   "id": "a23fad6d1f8e14ca",
   "outputs": [
    {
     "data": {
      "text/plain": [
       "{'text': ' Lobsters and Lobsters.',\n",
       " 'segments': [{'id': 0,\n",
       "   'seek': 0,\n",
       "   'start': 0.0,\n",
       "   'end': 2.0,\n",
       "   'text': ' Lobsters and Lobsters.',\n",
       "   'tokens': [50364, 30719, 10130, 293, 30719, 10130, 13, 50464],\n",
       "   'temperature': 0.0,\n",
       "   'avg_logprob': -0.5784881909688314,\n",
       "   'compression_ratio': 0.9166666666666666,\n",
       "   'no_speech_prob': 0.04135600104928017}],\n",
       " 'language': 'en'}"
      ]
     },
     "execution_count": 5,
     "metadata": {},
     "output_type": "execute_result"
    }
   ],
   "execution_count": 5
  },
  {
   "metadata": {},
   "cell_type": "code",
   "outputs": [],
   "execution_count": null,
   "source": "",
   "id": "d7f1d2f6f79ab3f"
  }
 ],
 "metadata": {
  "kernelspec": {
   "display_name": "Python 3",
   "language": "python",
   "name": "python3"
  },
  "language_info": {
   "codemirror_mode": {
    "name": "ipython",
    "version": 2
   },
   "file_extension": ".py",
   "mimetype": "text/x-python",
   "name": "python",
   "nbconvert_exporter": "python",
   "pygments_lexer": "ipython2",
   "version": "2.7.6"
  }
 },
 "nbformat": 4,
 "nbformat_minor": 5
}
